{
 "cells": [
  {
   "cell_type": "markdown",
   "id": "d98525e9-2858-47a0-9c28-59224864f58b",
   "metadata": {},
   "source": [
    "ASSIGNMEN NO 3:"
   ]
  },
  {
   "cell_type": "markdown",
   "id": "f4874968-e6a0-4615-88ba-d08b7fac359f",
   "metadata": {},
   "source": [
    "QUESTION NO 1:Create a dictionary to store information about a person (name, age, city, hobbies)."
   ]
  },
  {
   "cell_type": "code",
   "execution_count": 1,
   "id": "177014f5-4c44-4b6d-858e-2922ecd5656b",
   "metadata": {},
   "outputs": [
    {
     "name": "stdout",
     "output_type": "stream",
     "text": [
      "{'name': 'ALI', 'age': 19, 'city': 'Lahore', 'hobbies': ['cooking', 'painting']}\n"
     ]
    }
   ],
   "source": [
    "my_dic={\n",
    "    'name':'ALI',\n",
    "    'age':19,\n",
    "    'city':'Lahore',\n",
    "    'hobbies':['cooking','painting']\n",
    "}\n",
    "print(my_dic)"
   ]
  },
  {
   "cell_type": "markdown",
   "id": "96fa0d70-690f-429f-b150-f6cb21d10a8b",
   "metadata": {},
   "source": [
    "QUESTION NO 2: Write a program to count the frequency of words in a given text."
   ]
  },
  {
   "cell_type": "code",
   "execution_count": 2,
   "id": "d831e356-f8aa-4744-9b53-140dd57f5dac",
   "metadata": {},
   "outputs": [
    {
     "name": "stdout",
     "output_type": "stream",
     "text": [
      "{'allah,there': 1, 'is': 1, 'no': 1, 'god': 1, 'but': 1, 'he,': 1, 'the': 3, 'living,the': 1, 'eternal.he': 1, 'sent': 1, 'down': 1, 'to': 1, 'you': 1, 'book': 1, 'with': 1, 'truth,': 1, 'confirming': 1, 'what': 1, 'came': 1, 'before': 1, 'it.': 1}\n"
     ]
    }
   ],
   "source": [
    "text=\"Allah,there is no god but he, the living,the eternal.He sent down to you the book with the truth, confirming what came before it.\"\n",
    "words = text.lower().split()\n",
    "word_count = {}\n",
    "for word in words:\n",
    "    if word in word_count:\n",
    "        word_count[word] += 1\n",
    "    else:\n",
    "        word_count[word] = 1\n",
    "print(word_count)"
   ]
  },
  {
   "cell_type": "markdown",
   "id": "9e16413d-11a2-42f1-9e04-2ce821feb187",
   "metadata": {},
   "source": [
    "QUESTION NO 3: Implement a simple inventory system using dictionaries."
   ]
  },
  {
   "cell_type": "code",
   "execution_count": null,
   "id": "c00e34bd-74bd-486b-b8ab-0382e4c5774e",
   "metadata": {},
   "outputs": [],
   "source": [
    "inventory={\n",
    "    'scale':20,\n",
    "    'eraser':10,\n",
    "    'pencil':20\n",
    "}\n",
    "inventory['pen'] = 15\n",
    "inventory['paper] += 10  \n",
    "del inventory['scale']\n",
    "print(inventory)"
   ]
  },
  {
   "cell_type": "markdown",
   "id": "22fbdc39-fc7c-4f85-b34d-a3a1a0f585f5",
   "metadata": {},
   "source": [
    "QUESTION NO 4:Create a dictionary to store student grades and calculate the average grade.\n"
   ]
  },
  {
   "cell_type": "code",
   "execution_count": 24,
   "id": "b4f8cd88-b960-4c6b-b1f6-339fe830412d",
   "metadata": {},
   "outputs": [
    {
     "name": "stdout",
     "output_type": "stream",
     "text": [
      "The average grade is:86.60\n"
     ]
    }
   ],
   "source": [
    "student_grades = {\n",
    "    \"Alice\": 85,\n",
    "    \"Bob\": 90,\n",
    "    \"Charlie\": 78,\n",
    "    \"Diana\": 92,\n",
    "    \"Ethan\": 88\n",
    "}\n",
    "total = sum(student_grades.values())\n",
    "count = len(student_grades)\n",
    "average = total / count\n",
    "print(f\"The average grade is:{average:.2f}\")"
   ]
  },
  {
   "cell_type": "markdown",
   "id": "4a0557e3-a0af-48f9-a182-a755f5e7d396",
   "metadata": {},
   "source": [
    "QUESTION NO 5:Student Gradebook:\n",
    "Create a dictionary to store student information: name, grades for different subjects.\n",
    "Calculate the average grade for each student.\n",
    "Find the highest and lowest grades in a specific subject.\n",
    "Sort students by their average grades."
   ]
  },
  {
   "cell_type": "code",
   "execution_count": 26,
   "id": "20a8b2ce-7038-472a-bcb0-346742752453",
   "metadata": {},
   "outputs": [
    {
     "name": "stdout",
     "output_type": "stream",
     "text": [
      "Average Grades:\n",
      "Alice: 87.67\n",
      "Bob: 75.00\n",
      "Charlie: 92.00\n",
      "Diana: 65.00\n",
      "\n",
      "Highest in Math: Charlie with 95\n",
      "Lowest in Math: Diana with 60\n",
      "\n",
      "Students sorted by average grade:\n",
      "Charlie: 92.00\n",
      "Alice: 87.67\n",
      "Bob: 75.00\n",
      "Diana: 65.00\n"
     ]
    }
   ],
   "source": [
    "gradebook = {\n",
    "    \"Alice\": {\"Math\": 90, \"Science\": 85, \"English\": 88},\n",
    "    \"Bob\": {\"Math\": 75, \"Science\": 80, \"English\": 70},\n",
    "    \"Charlie\": {\"Math\": 95, \"Science\": 89, \"English\": 92},\n",
    "    \"Diana\": {\"Math\": 60, \"Science\": 65, \"English\": 70}\n",
    "}\n",
    "def calculate_averages(gradebook):\n",
    "    averages = {}\n",
    "    for name, subjects in gradebook.items():\n",
    "        avg = sum(subjects.values()) / len(subjects)\n",
    "        averages[name] = avg\n",
    "    return averages\n",
    "\n",
    "def subject_extremes(gradebook, subject):\n",
    "    subject_grades = {name: grades[subject] for name, grades in gradebook.items() if subject in grades}\n",
    "    if not subject_grades:\n",
    "        print(f\"No grades recorded for subject: {subject}\")\n",
    "        return\n",
    "    highest = max(subject_grades.items(), key=lambda x: x[1])\n",
    "    lowest = min(subject_grades.items(), key=lambda x: x[1])\n",
    "    print(f\"\\nHighest in {subject}: {highest[0]} with {highest[1]}\")\n",
    "    print(f\"Lowest in {subject}: {lowest[0]} with {lowest[1]}\")\n",
    "\n",
    "def sort_by_average(averages):\n",
    "    sorted_students = sorted(averages.items(), key=lambda x: x[1], reverse=True)\n",
    "    print(\"\\nStudents sorted by average grade:\")\n",
    "    for name, avg in sorted_students:\n",
    "        print(f\"{name}: {avg:.2f}\")\n",
    "\n",
    "averages = calculate_averages(gradebook)\n",
    "\n",
    "print(\"Average Grades:\")\n",
    "for student, avg in averages.items():\n",
    "    print(f\"{student}: {avg:.2f}\")\n",
    "\n",
    "subject_extremes(gradebook, \"Math\")\n",
    "\n",
    "sort_by_average(averages)"
   ]
  },
  {
   "cell_type": "markdown",
   "id": "a1749153-416c-4146-8dbf-09790db4b5da",
   "metadata": {},
   "source": [
    "QUESTION NO 6: Analyze a dataset of customer orders to find the most popular product category."
   ]
  },
  {
   "cell_type": "code",
   "execution_count": null,
   "id": "5a39d502-a1d5-4301-8bec-3f8181aaee52",
   "metadata": {},
   "outputs": [],
   "source": [
    "orders = [\"Electronics\", \"Clothing\", \"Electronics\", \"Books\", \"Clothing\", \"Electronics\"]\n",
    "category_count = {}\n",
    "\n",
    "for item in orders:\n",
    "    if item in category_count:\n",
    "        category_count[item] += 1\n",
    "    else:\n",
    "        category_count[item] = 1\n",
    "\n",
    "most_popular = max(category_count, key=category_count.get)\n",
    "print(\"Most popular category:\", most_popular)"
   ]
  },
  {
   "cell_type": "markdown",
   "id": "850437a7-17f2-43c2-8c75-f1575db730d9",
   "metadata": {},
   "source": [
    "QUESTION NO 7: Simple E-commerce Store:\n",
    "Create a dictionary to store product information: name, price, quantity.\n",
    "Implement a shopping cart feature where users can add and remove products.\n",
    "Calculate the total cost of items in the cart.\n",
    "Apply discounts and taxes to the total cost."
   ]
  },
  {
   "cell_type": "code",
   "execution_count": null,
   "id": "052de236-6177-4d14-b6c3-a2c458b620d3",
   "metadata": {},
   "outputs": [],
   "source": [
    "products = {\n",
    "    \"laptop\": {\"price\": 50000, \"quantity\": 10},\n",
    "    \"mouse\": {\"price\": 1500, \"quantity\": 50},\n",
    "    \"keyboard\": {\"price\": 2500, \"quantity\": 30}\n",
    "}\n",
    "\n",
    "cart = {}\n",
    "def add_to_cart(product, quantity):\n",
    "    if product in products and products[product][\"quantity\"] >= quantity:\n",
    "        if product in cart:\n",
    "            cart[product] += quantity\n",
    "        else:\n",
    "            cart[product] = quantity\n",
    "        products[product][\"quantity\"] -= quantity\n",
    "def remove_from_cart(product):\n",
    "    if product in cart:\n",
    "        products[product][\"quantity\"] += cart[product]\n",
    "        del cart[product]\n",
    "def total_cost():\n",
    "    total = 0\n",
    "    for product, quantity in cart.items():\n",
    "        total += products[product][\"price\"] * quantity\n",
    "    return total\n",
    "def final_cost(discount_percent, tax_percent):\n",
    "    total = total_cost()\n",
    "    discount = (discount_percent / 100) * total\n",
    "    tax = (tax_percent / 100) * total\n",
    "    return total - discount + tax\n",
    "add_to_cart(\"laptop\", 1)\n",
    "add_to_cart(\"mouse\", 2)\n",
    "\n",
    "print(\"Cart:\", cart)\n",
    "print(\"Total cost without discount/tax:\", total_cost())\n",
    "print(\"Final cost with 10% discount and 5% tax:\", final_cost(10, 5))"
   ]
  },
  {
   "cell_type": "markdown",
   "id": "d2a4a851-06dc-4786-bc69-2ed286e71d42",
   "metadata": {},
   "source": [
    "QUESTION NO 8:Analyze a dataset of customer orders to find the most popular product category."
   ]
  },
  {
   "cell_type": "code",
   "execution_count": null,
   "id": "0eb60813-855b-4f34-972c-ba85035ed20f",
   "metadata": {},
   "outputs": [],
   "source": [
    "orders = [\n",
    "    {\"customer\": \"Ali\", \"category\": \"Electronics\"},\n",
    "    {\"customer\": \"Sara\", \"category\": \"Clothing\"},\n",
    "    {\"customer\": \"Ahmed\", \"category\": \"Electronics\"},\n",
    "    {\"customer\": \"Zara\", \"category\": \"Clothing\"},\n",
    "    {\"customer\": \"Bilal\", \"category\": \"Electronics\"},\n",
    "    {\"customer\": \"Tariq\", \"category\": \"Books\"}\n",
    "]\n",
    "\n",
    "counts = {}\n",
    "\n",
    "for i in orders:\n",
    "    cat = i[\"category\"]\n",
    "    if cat in counts:\n",
    "        counts[cat] += 1\n",
    "    else:\n",
    "        counts[cat] = 1\n",
    "popular = \"\"\n",
    "max_count = 0\n",
    "\n",
    "for i in counts:\n",
    "    if counts[i] > max_count:\n",
    "        max_count = counts[i]\n",
    "        popular = i\n",
    "\n",
    "print(\"Most popular category:\", popular)\n",
    "print(\"Orders:\", max_count)"
   ]
  },
  {
   "cell_type": "code",
   "execution_count": null,
   "id": "cba3974d-3f20-41d2-9d93-7f16c1693d54",
   "metadata": {},
   "outputs": [],
   "source": []
  }
 ],
 "metadata": {
  "kernelspec": {
   "display_name": "Python 3 (ipykernel)",
   "language": "python",
   "name": "python3"
  },
  "language_info": {
   "codemirror_mode": {
    "name": "ipython",
    "version": 3
   },
   "file_extension": ".py",
   "mimetype": "text/x-python",
   "name": "python",
   "nbconvert_exporter": "python",
   "pygments_lexer": "ipython3",
   "version": "3.12.7"
  }
 },
 "nbformat": 4,
 "nbformat_minor": 5
}
